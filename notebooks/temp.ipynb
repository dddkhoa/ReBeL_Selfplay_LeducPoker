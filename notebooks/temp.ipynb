{
 "cells": [
  {
   "cell_type": "code",
   "execution_count": 9,
   "outputs": [
    {
     "data": {
      "text/plain": "    A  B  C  D  E  F  G  H  I  J\n1   ⬜  ⬜  ⬜  ⬜  ⬜  ⬜  ⬜  ⬜  ⬜  ⬜\n2   ⬜  ⬜  ⬜  ⬜  ⬜  ⬜  ⬜  ⬜  ⬜  ⬜\n3   ⬜  ⬜  ⬜  ⬜  ⬜  ⬜  ⬜  ⬜  ⬜  ⬜\n4   ⬜  ⬜  ⬜  ⬜  ⬜  ⬜  ⬜  ⬜  ⬜  ⬜\n5   ⬜  ⬜  ⬜  ⬜  ⬜  ⬜  ⬜  ⬜  ⬜  ⬜\n6   ⬜  ⬜  ⬜  ⬜  ⬜  ⚫  ⚫  ⬜  ⬜  ⬜\n7   ⬜  ⬜  ⬜  ⬜  ⬜  ⬜  ⬜  ⬜  ⬜  ⬜\n8   ⬜  ⬜  ⬜  ⬜  ⬜  ⬜  ⬜  ⬜  ⬜  ⬜\n9   ⬜  ⬜  ⬜  ⬜  ⬜  ⬜  ⬜  ⬜  ⬜  ⬜\n10  ⬜  ⬜  ⬜  ⬜  ⬜  ⬜  ⬜  ⬜  ⬜  ⬜",
      "text/html": "<div>\n<style scoped>\n    .dataframe tbody tr th:only-of-type {\n        vertical-align: middle;\n    }\n\n    .dataframe tbody tr th {\n        vertical-align: top;\n    }\n\n    .dataframe thead th {\n        text-align: right;\n    }\n</style>\n<table border=\"1\" class=\"dataframe\">\n  <thead>\n    <tr style=\"text-align: right;\">\n      <th></th>\n      <th>A</th>\n      <th>B</th>\n      <th>C</th>\n      <th>D</th>\n      <th>E</th>\n      <th>F</th>\n      <th>G</th>\n      <th>H</th>\n      <th>I</th>\n      <th>J</th>\n    </tr>\n  </thead>\n  <tbody>\n    <tr>\n      <th>1</th>\n      <td>⬜</td>\n      <td>⬜</td>\n      <td>⬜</td>\n      <td>⬜</td>\n      <td>⬜</td>\n      <td>⬜</td>\n      <td>⬜</td>\n      <td>⬜</td>\n      <td>⬜</td>\n      <td>⬜</td>\n    </tr>\n    <tr>\n      <th>2</th>\n      <td>⬜</td>\n      <td>⬜</td>\n      <td>⬜</td>\n      <td>⬜</td>\n      <td>⬜</td>\n      <td>⬜</td>\n      <td>⬜</td>\n      <td>⬜</td>\n      <td>⬜</td>\n      <td>⬜</td>\n    </tr>\n    <tr>\n      <th>3</th>\n      <td>⬜</td>\n      <td>⬜</td>\n      <td>⬜</td>\n      <td>⬜</td>\n      <td>⬜</td>\n      <td>⬜</td>\n      <td>⬜</td>\n      <td>⬜</td>\n      <td>⬜</td>\n      <td>⬜</td>\n    </tr>\n    <tr>\n      <th>4</th>\n      <td>⬜</td>\n      <td>⬜</td>\n      <td>⬜</td>\n      <td>⬜</td>\n      <td>⬜</td>\n      <td>⬜</td>\n      <td>⬜</td>\n      <td>⬜</td>\n      <td>⬜</td>\n      <td>⬜</td>\n    </tr>\n    <tr>\n      <th>5</th>\n      <td>⬜</td>\n      <td>⬜</td>\n      <td>⬜</td>\n      <td>⬜</td>\n      <td>⬜</td>\n      <td>⬜</td>\n      <td>⬜</td>\n      <td>⬜</td>\n      <td>⬜</td>\n      <td>⬜</td>\n    </tr>\n    <tr>\n      <th>6</th>\n      <td>⬜</td>\n      <td>⬜</td>\n      <td>⬜</td>\n      <td>⬜</td>\n      <td>⬜</td>\n      <td>⚫</td>\n      <td>⚫</td>\n      <td>⬜</td>\n      <td>⬜</td>\n      <td>⬜</td>\n    </tr>\n    <tr>\n      <th>7</th>\n      <td>⬜</td>\n      <td>⬜</td>\n      <td>⬜</td>\n      <td>⬜</td>\n      <td>⬜</td>\n      <td>⬜</td>\n      <td>⬜</td>\n      <td>⬜</td>\n      <td>⬜</td>\n      <td>⬜</td>\n    </tr>\n    <tr>\n      <th>8</th>\n      <td>⬜</td>\n      <td>⬜</td>\n      <td>⬜</td>\n      <td>⬜</td>\n      <td>⬜</td>\n      <td>⬜</td>\n      <td>⬜</td>\n      <td>⬜</td>\n      <td>⬜</td>\n      <td>⬜</td>\n    </tr>\n    <tr>\n      <th>9</th>\n      <td>⬜</td>\n      <td>⬜</td>\n      <td>⬜</td>\n      <td>⬜</td>\n      <td>⬜</td>\n      <td>⬜</td>\n      <td>⬜</td>\n      <td>⬜</td>\n      <td>⬜</td>\n      <td>⬜</td>\n    </tr>\n    <tr>\n      <th>10</th>\n      <td>⬜</td>\n      <td>⬜</td>\n      <td>⬜</td>\n      <td>⬜</td>\n      <td>⬜</td>\n      <td>⬜</td>\n      <td>⬜</td>\n      <td>⬜</td>\n      <td>⬜</td>\n      <td>⬜</td>\n    </tr>\n  </tbody>\n</table>\n</div>"
     },
     "metadata": {},
     "output_type": "display_data"
    },
    {
     "data": {
      "text/plain": "    A  B  C  D  E  F  G  H  I  J\n1   ⬛  ⬛  ⬛  ⬛  ⬜  ⬜  ⬜  ⬜  ⬜  ⬜\n2   ⬜  ⬜  ⬜  ⬜  ⬛  ⬛  ⬛  ⬛  ⬜  ⬜\n3   ⬛  ⬛  ⬛  ⬜  ⬜  ⬜  ⬜  ⬛  ⬜  ⬜\n4   ⬛  ⬛  ⬛  ⬛  ⬛  ⬜  ⬜  ⬜  ⬜  ⬜\n5   ⬜  ⬜  ⬜  ⬜  ⬜  ⬜  ⬜  ⬜  ⬜  ⬜\n6   ⬜  ⬜  ⬜  ⬜  ⬜  ⬜  ⬜  ⬜  ⬜  ⬜\n7   ⬜  ⬜  ⬜  ⬜  ⬜  ⬜  ⬜  ⬜  ⬜  ⬜\n8   ⬜  ⬜  ⬜  ⬜  ⬜  ⬜  ⬜  ⬜  ⬜  ⬜\n9   ⬜  ⬜  ⬜  ⬜  ⬜  ⬜  ⬜  ⬜  ⬜  ⬜\n10  ⬜  ⬜  ⬜  ⬜  ⬜  ⬜  ⬜  ⬜  ⬜  ⬜",
      "text/html": "<div>\n<style scoped>\n    .dataframe tbody tr th:only-of-type {\n        vertical-align: middle;\n    }\n\n    .dataframe tbody tr th {\n        vertical-align: top;\n    }\n\n    .dataframe thead th {\n        text-align: right;\n    }\n</style>\n<table border=\"1\" class=\"dataframe\">\n  <thead>\n    <tr style=\"text-align: right;\">\n      <th></th>\n      <th>A</th>\n      <th>B</th>\n      <th>C</th>\n      <th>D</th>\n      <th>E</th>\n      <th>F</th>\n      <th>G</th>\n      <th>H</th>\n      <th>I</th>\n      <th>J</th>\n    </tr>\n  </thead>\n  <tbody>\n    <tr>\n      <th>1</th>\n      <td>⬛</td>\n      <td>⬛</td>\n      <td>⬛</td>\n      <td>⬛</td>\n      <td>⬜</td>\n      <td>⬜</td>\n      <td>⬜</td>\n      <td>⬜</td>\n      <td>⬜</td>\n      <td>⬜</td>\n    </tr>\n    <tr>\n      <th>2</th>\n      <td>⬜</td>\n      <td>⬜</td>\n      <td>⬜</td>\n      <td>⬜</td>\n      <td>⬛</td>\n      <td>⬛</td>\n      <td>⬛</td>\n      <td>⬛</td>\n      <td>⬜</td>\n      <td>⬜</td>\n    </tr>\n    <tr>\n      <th>3</th>\n      <td>⬛</td>\n      <td>⬛</td>\n      <td>⬛</td>\n      <td>⬜</td>\n      <td>⬜</td>\n      <td>⬜</td>\n      <td>⬜</td>\n      <td>⬛</td>\n      <td>⬜</td>\n      <td>⬜</td>\n    </tr>\n    <tr>\n      <th>4</th>\n      <td>⬛</td>\n      <td>⬛</td>\n      <td>⬛</td>\n      <td>⬛</td>\n      <td>⬛</td>\n      <td>⬜</td>\n      <td>⬜</td>\n      <td>⬜</td>\n      <td>⬜</td>\n      <td>⬜</td>\n    </tr>\n    <tr>\n      <th>5</th>\n      <td>⬜</td>\n      <td>⬜</td>\n      <td>⬜</td>\n      <td>⬜</td>\n      <td>⬜</td>\n      <td>⬜</td>\n      <td>⬜</td>\n      <td>⬜</td>\n      <td>⬜</td>\n      <td>⬜</td>\n    </tr>\n    <tr>\n      <th>6</th>\n      <td>⬜</td>\n      <td>⬜</td>\n      <td>⬜</td>\n      <td>⬜</td>\n      <td>⬜</td>\n      <td>⬜</td>\n      <td>⬜</td>\n      <td>⬜</td>\n      <td>⬜</td>\n      <td>⬜</td>\n    </tr>\n    <tr>\n      <th>7</th>\n      <td>⬜</td>\n      <td>⬜</td>\n      <td>⬜</td>\n      <td>⬜</td>\n      <td>⬜</td>\n      <td>⬜</td>\n      <td>⬜</td>\n      <td>⬜</td>\n      <td>⬜</td>\n      <td>⬜</td>\n    </tr>\n    <tr>\n      <th>8</th>\n      <td>⬜</td>\n      <td>⬜</td>\n      <td>⬜</td>\n      <td>⬜</td>\n      <td>⬜</td>\n      <td>⬜</td>\n      <td>⬜</td>\n      <td>⬜</td>\n      <td>⬜</td>\n      <td>⬜</td>\n    </tr>\n    <tr>\n      <th>9</th>\n      <td>⬜</td>\n      <td>⬜</td>\n      <td>⬜</td>\n      <td>⬜</td>\n      <td>⬜</td>\n      <td>⬜</td>\n      <td>⬜</td>\n      <td>⬜</td>\n      <td>⬜</td>\n      <td>⬜</td>\n    </tr>\n    <tr>\n      <th>10</th>\n      <td>⬜</td>\n      <td>⬜</td>\n      <td>⬜</td>\n      <td>⬜</td>\n      <td>⬜</td>\n      <td>⬜</td>\n      <td>⬜</td>\n      <td>⬜</td>\n      <td>⬜</td>\n      <td>⬜</td>\n    </tr>\n  </tbody>\n</table>\n</div>"
     },
     "metadata": {},
     "output_type": "display_data"
    }
   ],
   "source": [
    "import gym\n",
    "import gym_battleship\n",
    "\n",
    "env = gym.make('Battleship-v0')\n",
    "env.reset()\n",
    "\n",
    "# for i in range(10):\n",
    "#     act = env.action_space.sample()\n",
    "#     print(act)\n",
    "#     env.step(act)\n",
    "#     env.render()\n",
    "\n",
    "act1 = (5, 5)\n",
    "env.step(act1)\n",
    "act2 = (5, 6)\n",
    "env.step(act2)\n",
    "env.render()\n",
    "\n",
    "env.render_board_generated()"
   ],
   "metadata": {
    "collapsed": false,
    "ExecuteTime": {
     "end_time": "2023-05-22T17:55:54.509875139Z",
     "start_time": "2023-05-22T17:55:54.345926582Z"
    }
   }
  },
  {
   "cell_type": "code",
   "execution_count": 10,
   "outputs": [],
   "source": [
    "from collections import namedtuple"
   ],
   "metadata": {
    "collapsed": false,
    "ExecuteTime": {
     "end_time": "2023-05-22T18:14:26.702149862Z",
     "start_time": "2023-05-22T18:14:26.699328290Z"
    }
   }
  },
  {
   "cell_type": "code",
   "execution_count": 11,
   "outputs": [
    {
     "data": {
      "text/plain": "    A  B  C  D  E  F  G  H  I  J\n1   ⬜  ⬜  ⬜  ⬛  ⬛  ⬛  ⬜  ⬜  ⬜  ⬜\n2   ⬜  ⬜  ⬜  ⬜  ⬜  ⬜  ⬜  ⬜  ⬜  ⬜\n3   ⬜  ⬜  ⬜  ⬜  ⬜  ⬜  ⬜  ⬜  ⬜  ⬜\n4   ⬜  ⬜  ⬜  ⬜  ⬜  ⬜  ⬜  ⬜  ⬜  ⬜\n5   ⬜  ⬜  ⬜  ⬜  ⬜  ⬜  ⬜  ⬜  ⬜  ⬜\n6   ⬜  ⬜  ⬜  ⬜  ⬜  ⬜  ⬜  ⬜  ⬜  ⬜\n7   ⬜  ⬜  ⬜  ⬜  ⬜  ⬜  ⬜  ⬜  ⬜  ⬜\n8   ⬜  ⬜  ⬜  ⬜  ⬜  ⬜  ⬜  ⬜  ⬜  ⬜\n9   ⬜  ⬜  ⬜  ⬜  ⬜  ⬜  ⬜  ⬜  ⬜  ⬜\n10  ⬜  ⬜  ⬜  ⬜  ⬜  ⬜  ⬜  ⬜  ⬜  ⬜",
      "text/html": "<div>\n<style scoped>\n    .dataframe tbody tr th:only-of-type {\n        vertical-align: middle;\n    }\n\n    .dataframe tbody tr th {\n        vertical-align: top;\n    }\n\n    .dataframe thead th {\n        text-align: right;\n    }\n</style>\n<table border=\"1\" class=\"dataframe\">\n  <thead>\n    <tr style=\"text-align: right;\">\n      <th></th>\n      <th>A</th>\n      <th>B</th>\n      <th>C</th>\n      <th>D</th>\n      <th>E</th>\n      <th>F</th>\n      <th>G</th>\n      <th>H</th>\n      <th>I</th>\n      <th>J</th>\n    </tr>\n  </thead>\n  <tbody>\n    <tr>\n      <th>1</th>\n      <td>⬜</td>\n      <td>⬜</td>\n      <td>⬜</td>\n      <td>⬛</td>\n      <td>⬛</td>\n      <td>⬛</td>\n      <td>⬜</td>\n      <td>⬜</td>\n      <td>⬜</td>\n      <td>⬜</td>\n    </tr>\n    <tr>\n      <th>2</th>\n      <td>⬜</td>\n      <td>⬜</td>\n      <td>⬜</td>\n      <td>⬜</td>\n      <td>⬜</td>\n      <td>⬜</td>\n      <td>⬜</td>\n      <td>⬜</td>\n      <td>⬜</td>\n      <td>⬜</td>\n    </tr>\n    <tr>\n      <th>3</th>\n      <td>⬜</td>\n      <td>⬜</td>\n      <td>⬜</td>\n      <td>⬜</td>\n      <td>⬜</td>\n      <td>⬜</td>\n      <td>⬜</td>\n      <td>⬜</td>\n      <td>⬜</td>\n      <td>⬜</td>\n    </tr>\n    <tr>\n      <th>4</th>\n      <td>⬜</td>\n      <td>⬜</td>\n      <td>⬜</td>\n      <td>⬜</td>\n      <td>⬜</td>\n      <td>⬜</td>\n      <td>⬜</td>\n      <td>⬜</td>\n      <td>⬜</td>\n      <td>⬜</td>\n    </tr>\n    <tr>\n      <th>5</th>\n      <td>⬜</td>\n      <td>⬜</td>\n      <td>⬜</td>\n      <td>⬜</td>\n      <td>⬜</td>\n      <td>⬜</td>\n      <td>⬜</td>\n      <td>⬜</td>\n      <td>⬜</td>\n      <td>⬜</td>\n    </tr>\n    <tr>\n      <th>6</th>\n      <td>⬜</td>\n      <td>⬜</td>\n      <td>⬜</td>\n      <td>⬜</td>\n      <td>⬜</td>\n      <td>⬜</td>\n      <td>⬜</td>\n      <td>⬜</td>\n      <td>⬜</td>\n      <td>⬜</td>\n    </tr>\n    <tr>\n      <th>7</th>\n      <td>⬜</td>\n      <td>⬜</td>\n      <td>⬜</td>\n      <td>⬜</td>\n      <td>⬜</td>\n      <td>⬜</td>\n      <td>⬜</td>\n      <td>⬜</td>\n      <td>⬜</td>\n      <td>⬜</td>\n    </tr>\n    <tr>\n      <th>8</th>\n      <td>⬜</td>\n      <td>⬜</td>\n      <td>⬜</td>\n      <td>⬜</td>\n      <td>⬜</td>\n      <td>⬜</td>\n      <td>⬜</td>\n      <td>⬜</td>\n      <td>⬜</td>\n      <td>⬜</td>\n    </tr>\n    <tr>\n      <th>9</th>\n      <td>⬜</td>\n      <td>⬜</td>\n      <td>⬜</td>\n      <td>⬜</td>\n      <td>⬜</td>\n      <td>⬜</td>\n      <td>⬜</td>\n      <td>⬜</td>\n      <td>⬜</td>\n      <td>⬜</td>\n    </tr>\n    <tr>\n      <th>10</th>\n      <td>⬜</td>\n      <td>⬜</td>\n      <td>⬜</td>\n      <td>⬜</td>\n      <td>⬜</td>\n      <td>⬜</td>\n      <td>⬜</td>\n      <td>⬜</td>\n      <td>⬜</td>\n      <td>⬜</td>\n    </tr>\n  </tbody>\n</table>\n</div>"
     },
     "metadata": {},
     "output_type": "display_data"
    }
   ],
   "source": [
    "env = gym.make('AdversarialBattleship-v0')\n",
    "step = namedtuple('step', ['state', 'reward', 'done', 'info'])\n",
    "\n",
    "attacker_agent = env.attacker_action_space.sample\n",
    "defender_agent = env.defender_action_space.sample\n",
    "\n",
    "num_episodes = 1\n",
    "for episode in range(num_episodes):\n",
    "\n",
    "    defender_old_state = env.defender_reset()\n",
    "    while True:\n",
    "        defender_action = defender_agent()\n",
    "        return_value = env.defender_step(*defender_action)\n",
    "        if return_value:\n",
    "            defender_step = step(*return_value)\n",
    "            # defender_agent.learn(defender_old_state, defender_step.reward, defender_step.state, defender_step.done)\n",
    "            defender_old_state = defender_step.state\n",
    "        else:\n",
    "            break\n",
    "\n",
    "    attacker_step = step(*env.attacker_initialization(), False, {})\n",
    "    env.render_board_generated()\n",
    "\n",
    "    while not attacker_step.done:\n",
    "        attacker_action = attacker_agent()\n",
    "        attacker_step = step(*env.attacker_step(attacker_action))\n",
    "        # defender_agent.learn(attacker_old_state, attacker_step.reward, attacker_step.state, attacker_step.done)\n",
    "        attacker_old_state = attacker_step.state\n",
    "\n",
    "    defender_step = step(*env.defender_step(*defender_action))\n",
    "    # defender_agent.learn(defender_old_state, defender_step.reward, defender_step.state, defender_step.done)"
   ],
   "metadata": {
    "collapsed": false,
    "ExecuteTime": {
     "end_time": "2023-05-22T18:14:27.595325533Z",
     "start_time": "2023-05-22T18:14:27.577703184Z"
    }
   }
  },
  {
   "cell_type": "code",
   "execution_count": null,
   "outputs": [],
   "source": [],
   "metadata": {
    "collapsed": false
   }
  }
 ],
 "metadata": {
  "kernelspec": {
   "display_name": "Python 3",
   "language": "python",
   "name": "python3"
  },
  "language_info": {
   "codemirror_mode": {
    "name": "ipython",
    "version": 2
   },
   "file_extension": ".py",
   "mimetype": "text/x-python",
   "name": "python",
   "nbconvert_exporter": "python",
   "pygments_lexer": "ipython2",
   "version": "2.7.6"
  }
 },
 "nbformat": 4,
 "nbformat_minor": 0
}
